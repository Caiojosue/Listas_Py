{
 "cells": [
  {
   "cell_type": "code",
   "execution_count": 2,
   "metadata": {},
   "outputs": [],
   "source": [
    "tel = {\"Jack\": 4098, \"Sape\": 4139 }\n",
    "tel[\"guido\"] = 4127"
   ]
  },
  {
   "cell_type": "code",
   "execution_count": 3,
   "metadata": {},
   "outputs": [
    {
     "data": {
      "text/plain": [
       "{'Jack': 4098, 'Sape': 4139, 'guido': 4127}"
      ]
     },
     "execution_count": 3,
     "metadata": {},
     "output_type": "execute_result"
    }
   ],
   "source": [
    "tel"
   ]
  },
  {
   "cell_type": "code",
   "execution_count": 4,
   "metadata": {},
   "outputs": [
    {
     "data": {
      "text/plain": [
       "4098"
      ]
     },
     "execution_count": 4,
     "metadata": {},
     "output_type": "execute_result"
    }
   ],
   "source": [
    "tel[\"Jack\"]"
   ]
  },
  {
   "cell_type": "code",
   "execution_count": 5,
   "metadata": {},
   "outputs": [],
   "source": [
    "del tel[\"Sape\"]\n",
    "tel[\"irv\"] = 4127"
   ]
  },
  {
   "cell_type": "code",
   "execution_count": 6,
   "metadata": {},
   "outputs": [
    {
     "data": {
      "text/plain": [
       "{'Jack': 4098, 'guido': 4127, 'irv': 4127}"
      ]
     },
     "execution_count": 6,
     "metadata": {},
     "output_type": "execute_result"
    }
   ],
   "source": [
    "tel"
   ]
  },
  {
   "cell_type": "code",
   "execution_count": 7,
   "metadata": {},
   "outputs": [
    {
     "data": {
      "text/plain": [
       "['Jack', 'guido', 'irv']"
      ]
     },
     "execution_count": 7,
     "metadata": {},
     "output_type": "execute_result"
    }
   ],
   "source": [
    "list(tel)"
   ]
  },
  {
   "cell_type": "code",
   "execution_count": 8,
   "metadata": {},
   "outputs": [
    {
     "data": {
      "text/plain": [
       "['Jack', 'guido', 'irv']"
      ]
     },
     "execution_count": 8,
     "metadata": {},
     "output_type": "execute_result"
    }
   ],
   "source": [
    "sorted(tel)"
   ]
  },
  {
   "cell_type": "code",
   "execution_count": 9,
   "metadata": {},
   "outputs": [
    {
     "data": {
      "text/plain": [
       "True"
      ]
     },
     "execution_count": 9,
     "metadata": {},
     "output_type": "execute_result"
    }
   ],
   "source": [
    "\"guido\" in tel"
   ]
  },
  {
   "cell_type": "code",
   "execution_count": 10,
   "metadata": {},
   "outputs": [
    {
     "data": {
      "text/plain": [
       "True"
      ]
     },
     "execution_count": 10,
     "metadata": {},
     "output_type": "execute_result"
    }
   ],
   "source": [
    "\"jack\" not in tel"
   ]
  },
  {
   "cell_type": "code",
   "execution_count": 11,
   "metadata": {},
   "outputs": [
    {
     "data": {
      "text/plain": [
       "{'sape': 4139, 'guido': 4127, 'jack': 4098}"
      ]
     },
     "execution_count": 11,
     "metadata": {},
     "output_type": "execute_result"
    }
   ],
   "source": [
    "dict(sape=4139, guido=4127, jack=4098)"
   ]
  },
  {
   "cell_type": "code",
   "execution_count": 13,
   "metadata": {},
   "outputs": [],
   "source": [
    "jogador = {\n",
    "    \n",
    "    \"nome\": \"Messi\",\n",
    "    \"idade\": \"36\",\n",
    "    \"posicao\": \"meia atacante\",\n",
    "    \"time\": \"inter miami\"\n",
    "}"
   ]
  },
  {
   "cell_type": "code",
   "execution_count": 16,
   "metadata": {},
   "outputs": [
    {
     "name": "stdout",
     "output_type": "stream",
     "text": [
      "{'nome': 'Caio ', 'idade': 19}\n"
     ]
    }
   ],
   "source": [
    "pessoa = {}\n",
    "\n",
    "nome = input(\"Digite o nome\")\n",
    "\n",
    "idade = int(input(\"Digite a idade\"))\n",
    "\n",
    "pessoa['nome'] = nome\n",
    "pessoa['idade'] = idade\n",
    "\n",
    "print(pessoa)"
   ]
  },
  {
   "cell_type": "code",
   "execution_count": 19,
   "metadata": {},
   "outputs": [
    {
     "name": "stdout",
     "output_type": "stream",
     "text": [
      "Telefone: 234556798\n"
     ]
    }
   ],
   "source": [
    "agenda = {\n",
    "    \n",
    "    \"Joao\": '12345678',\n",
    "    'Maria': '234556798',\n",
    "    'Pedro': '567890876'\n",
    "}\n",
    "\n",
    "nome = input(\"Digite o nome do contato: \")\n",
    "print('Telefone:', agenda[nome])"
   ]
  },
  {
   "cell_type": "code",
   "execution_count": 27,
   "metadata": {},
   "outputs": [
    {
     "name": "stdout",
     "output_type": "stream",
     "text": [
      "{'a': 2, 'aula': 2, 'do': 1, 'leo': 1, 'é': 1, 'mais': 1, 'legal': 1}\n"
     ]
    }
   ],
   "source": [
    "text = input(\"digite um txt: \").lower().split()\n",
    "frequencia = {}\n",
    "\n",
    "for palavra in text:\n",
    "    if palavra in frequencia:\n",
    "        frequencia[palavra] += 1\n",
    "    else:\n",
    "        frequencia[palavra] = 1\n",
    "    \n",
    "print(frequencia)"
   ]
  },
  {
   "cell_type": "code",
   "execution_count": 28,
   "metadata": {},
   "outputs": [
    {
     "name": "stdout",
     "output_type": "stream",
     "text": [
      "{'Arroz': 2, 'Feijao': 1, 'Macarrao': 3, 'Toddy': 4}\n"
     ]
    }
   ],
   "source": [
    "list_compras = {\n",
    "    'Arroz': 2,\n",
    "    \"Feijao\": 1,\n",
    "    \"Macarrao\": 3\n",
    "}\n",
    "\n",
    "item = input(\"Informe o novo item:\")\n",
    "quantidade = int(input(\"Informe a quantidade: \"))\n",
    "list_compras [item] = quantidade\n",
    "print(list_compras)"
   ]
  },
  {
   "cell_type": "code",
   "execution_count": null,
   "metadata": {},
   "outputs": [],
   "source": [
    "with open (\"Linkrepositorio.pages\", 'r') as arquivo:\n",
    "    texto = arquivo.read().lower().split()\n",
    "frequencia = {}\n",
    "\n",
    "for palavra in text:\n",
    "    if palavra in frequencia:\n",
    "        frequencia[palavra] += 1\n",
    "    else:\n",
    "        frequencia[palavra] = 1\n",
    "    \n",
    "print(frequencia)"
   ]
  },
  {
   "cell_type": "code",
   "execution_count": 30,
   "metadata": {},
   "outputs": [
    {
     "name": "stdout",
     "output_type": "stream",
     "text": [
      "{'Jao': True, 'Maria': True, 'Pedro': True, 'Caio': True}\n"
     ]
    }
   ],
   "source": [
    "convidados = {\"Jao\": True, \"Maria\": True, \"Pedro\": True}\n",
    "\n",
    "novo_convidado = input(\"Digite o nome do novo convidado: \")\n",
    "\n",
    "convidados[novo_convidado] = True\n",
    "\n",
    "print(convidados)"
   ]
  },
  {
   "cell_type": "code",
   "execution_count": null,
   "metadata": {},
   "outputs": [],
   "source": [
    "import csv \n",
    "\n",
    "with open(\"Plano_para_ser_Engenheiro_de_Desenvolvimento_de_Software_no_Ita_.csv\", newline=\"\") as csvfile:\n",
    "    reader = csv.DictReader(csvfile)\n",
    "    \n",
    "dados_etapa = {}\n",
    "dados_tarefa = {}\n",
    "dados_prazo = {}\n",
    "dados_status = {}\n",
    "\n",
    "for row in reader:\n",
    "    etapa = row['etapa']\n",
    "    tarefa = row['tarefa']\n",
    "    prazo = row[\"prazo\"]\n",
    "    status = row[\"status\"]\n",
    "    dados_etapa[etapa] = {\"tarefa\": tarefa, \"prazo\": prazo, \"status\": status}\n",
    "\n",
    "print(dados_etapa) "
   ]
  },
  {
   "cell_type": "code",
   "execution_count": null,
   "metadata": {},
   "outputs": [],
   "source": []
  }
 ],
 "metadata": {
  "kernelspec": {
   "display_name": "Python 3",
   "language": "python",
   "name": "python3"
  },
  "language_info": {
   "codemirror_mode": {
    "name": "ipython",
    "version": 3
   },
   "file_extension": ".py",
   "mimetype": "text/x-python",
   "name": "python",
   "nbconvert_exporter": "python",
   "pygments_lexer": "ipython3",
   "version": "3.12.6"
  }
 },
 "nbformat": 4,
 "nbformat_minor": 2
}
