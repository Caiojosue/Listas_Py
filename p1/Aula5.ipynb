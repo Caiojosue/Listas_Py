{
 "cells": [
  {
   "cell_type": "code",
   "execution_count": 2,
   "metadata": {},
   "outputs": [
    {
     "name": "stdout",
     "output_type": "stream",
     "text": [
      "Sum= 16\n",
      "AVG= 5.333333333333333\n"
     ]
    }
   ],
   "source": [
    "def sum_and_avg(x,y,z):\n",
    "    s = x + y + z\n",
    "    a = s/3\n",
    "    return(s,a)\n",
    "(S,A) = sum_and_avg(3,8,5)\n",
    "\n",
    "print('Sum=', S)\n",
    "print('AVG=', A)\n"
   ]
  },
  {
   "cell_type": "code",
   "execution_count": null,
   "metadata": {},
   "outputs": [],
   "source": []
  }
 ],
 "metadata": {
  "kernelspec": {
   "display_name": "Python 3",
   "language": "python",
   "name": "python3"
  },
  "language_info": {
   "codemirror_mode": {
    "name": "ipython",
    "version": 3
   },
   "file_extension": ".py",
   "mimetype": "text/x-python",
   "name": "python",
   "nbconvert_exporter": "python",
   "pygments_lexer": "ipython3",
   "version": "3.12.6"
  }
 },
 "nbformat": 4,
 "nbformat_minor": 2
}
