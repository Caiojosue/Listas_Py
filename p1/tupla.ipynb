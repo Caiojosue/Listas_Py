{
 "cells": [
  {
   "cell_type": "code",
   "execution_count": 3,
   "metadata": {},
   "outputs": [],
   "source": [
    "tuple = (0,[1,2,3],(4,5,6), 7.0)"
   ]
  },
  {
   "cell_type": "code",
   "execution_count": 4,
   "metadata": {},
   "outputs": [
    {
     "name": "stdout",
     "output_type": "stream",
     "text": [
      "O primeiro elemento: 0\n"
     ]
    }
   ],
   "source": [
    "print(\"O primeiro elemento:\", tuple[0])"
   ]
  },
  {
   "cell_type": "code",
   "execution_count": 5,
   "metadata": {},
   "outputs": [
    {
     "name": "stdout",
     "output_type": "stream",
     "text": [
      "O primeiro elemento: 7.0\n"
     ]
    }
   ],
   "source": [
    "print(\"O primeiro elemento:\", tuple[-1])"
   ]
  },
  {
   "cell_type": "code",
   "execution_count": 6,
   "metadata": {},
   "outputs": [
    {
     "name": "stdout",
     "output_type": "stream",
     "text": [
      "O tipo de dado do segundo elemento:  <class 'list'>\n"
     ]
    }
   ],
   "source": [
    "print(\"O tipo de dado do segundo elemento: \", type(tuple[1]))"
   ]
  },
  {
   "cell_type": "code",
   "execution_count": 9,
   "metadata": {},
   "outputs": [
    {
     "name": "stdout",
     "output_type": "stream",
     "text": [
      "O tipo de dado do terceiro elemento:  5\n"
     ]
    }
   ],
   "source": [
    "print(\"O tipo de dado do terceiro elemento: \", tuple[2][1])"
   ]
  },
  {
   "cell_type": "code",
   "execution_count": 10,
   "metadata": {},
   "outputs": [],
   "source": [
    "num_tuple = (2,4,5,7,8,10)"
   ]
  },
  {
   "cell_type": "code",
   "execution_count": 11,
   "metadata": {},
   "outputs": [
    {
     "name": "stdout",
     "output_type": "stream",
     "text": [
      "(2, 4, 5)\n"
     ]
    }
   ],
   "source": [
    "print(num_tuple[:3])"
   ]
  },
  {
   "cell_type": "code",
   "execution_count": 12,
   "metadata": {},
   "outputs": [
    {
     "name": "stdout",
     "output_type": "stream",
     "text": [
      "(8, 10)\n"
     ]
    }
   ],
   "source": [
    "print(num_tuple[4:])"
   ]
  },
  {
   "cell_type": "code",
   "execution_count": 13,
   "metadata": {},
   "outputs": [
    {
     "name": "stdout",
     "output_type": "stream",
     "text": [
      "(7, 8, 10)\n"
     ]
    }
   ],
   "source": [
    "print(num_tuple[-3:])"
   ]
  },
  {
   "cell_type": "code",
   "execution_count": 14,
   "metadata": {},
   "outputs": [
    {
     "name": "stdout",
     "output_type": "stream",
     "text": [
      "(5, 7, 8)\n"
     ]
    }
   ],
   "source": [
    "print(num_tuple[2:5])"
   ]
  },
  {
   "cell_type": "markdown",
   "metadata": {},
   "source": [
    "Tuplas zip"
   ]
  },
  {
   "cell_type": "code",
   "execution_count": 26,
   "metadata": {},
   "outputs": [
    {
     "name": "stdout",
     "output_type": "stream",
     "text": [
      "<zip object at 0x10d9920c0>\n"
     ]
    }
   ],
   "source": [
    "first_name = ('Simon', 'Alvin', 'Theodor', 'Caio')\n",
    "last_name = ('Roberto', \"Junior\", 'Carlos', \"Sando\")\n",
    "\n",
    "ages = (49,55, 39, 33)\n",
    "\n",
    "zipped = zip(first_name, last_name,ages)\n",
    "\n",
    "print(zipped)"
   ]
  },
  {
   "cell_type": "code",
   "execution_count": 30,
   "metadata": {},
   "outputs": [
    {
     "data": {
      "text/plain": [
       "[]"
      ]
     },
     "execution_count": 30,
     "metadata": {},
     "output_type": "execute_result"
    }
   ],
   "source": [
    "client = list(zipped)\n",
    "client"
   ]
  },
  {
   "cell_type": "code",
   "execution_count": null,
   "metadata": {},
   "outputs": [],
   "source": [
    "customers = list(zipped)\n",
    "print(customers)\n",
    "\n",
    "first_name, last_name, ages = customers[2]\n",
    "print(first_name, last_name, ',',ages, 'years old')"
   ]
  },
  {
   "cell_type": "code",
   "execution_count": 34,
   "metadata": {},
   "outputs": [
    {
     "name": "stdout",
     "output_type": "stream",
     "text": [
      "Tamanho da lista:  104 bytes\n",
      "Tamanho da tupla:  88 bytes\n"
     ]
    }
   ],
   "source": [
    "import sys \n",
    "\n",
    "a_list = ['abc', 'xyz', 123, 231, 13.31, 0.1312]\n",
    "\n",
    "a_tuple = ('abc', 'xyz', 123, 231, 13.31, 0.1312)\n",
    "\n",
    "\n",
    "print(\"Tamanho da lista: \", sys.getsizeof(a_list), 'bytes')\n",
    "print(\"Tamanho da tupla: \", sys.getsizeof(a_tuple), 'bytes')"
   ]
  },
  {
   "cell_type": "code",
   "execution_count": 35,
   "metadata": {},
   "outputs": [],
   "source": [
    "x = 19\n",
    "\n",
    "y = 91"
   ]
  },
  {
   "cell_type": "code",
   "execution_count": 37,
   "metadata": {},
   "outputs": [
    {
     "name": "stdout",
     "output_type": "stream",
     "text": [
      "Antes do swapping: \n",
      "x = 19, y = 91\n",
      "Depois do swapping: \n",
      "x = 91, y = 19\n"
     ]
    }
   ],
   "source": [
    "print('Antes do swapping: ')\n",
    "print(f\"x = {x}, y = {y}\")\n",
    "\n",
    "(x,y) = (y,x)\n",
    "\n",
    "print(\"Depois do swapping: \")\n",
    "\n",
    "print(f\"x = {x}, y = {y}\")"
   ]
  }
 ],
 "metadata": {
  "kernelspec": {
   "display_name": "Python 3",
   "language": "python",
   "name": "python3"
  },
  "language_info": {
   "codemirror_mode": {
    "name": "ipython",
    "version": 3
   },
   "file_extension": ".py",
   "mimetype": "text/x-python",
   "name": "python",
   "nbconvert_exporter": "python",
   "pygments_lexer": "ipython3",
   "version": "3.12.6"
  }
 },
 "nbformat": 4,
 "nbformat_minor": 2
}
