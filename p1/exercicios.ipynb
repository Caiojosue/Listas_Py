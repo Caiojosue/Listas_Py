{
 "cells": [
  {
   "cell_type": "markdown",
   "metadata": {},
   "source": [
    "## Exercicio 1"
   ]
  },
  {
   "cell_type": "code",
   "execution_count": 3,
   "metadata": {},
   "outputs": [
    {
     "name": "stdout",
     "output_type": "stream",
     "text": [
      "6\n"
     ]
    }
   ],
   "source": [
    "def sum_list (items):\n",
    "    sum_numbers = 1\n",
    "    for x in items:\n",
    "        sum_numbers *= x\n",
    "    return sum_numbers\n",
    "\n",
    "print(sum_list([1, 3, 2]))"
   ]
  },
  {
   "cell_type": "markdown",
   "metadata": {},
   "source": [
    "## Exercicio 2"
   ]
  },
  {
   "cell_type": "code",
   "execution_count": 4,
   "metadata": {},
   "outputs": [
    {
     "name": "stdout",
     "output_type": "stream",
     "text": [
      "10\n"
     ]
    }
   ],
   "source": [
    "def sum_list (items):\n",
    "    sum_number = 0\n",
    "    for x in items:\n",
    "        if x>sum_number:\n",
    "            sum_number = x\n",
    "    return sum_number\n",
    "\n",
    "print(sum_list([1, 7, 10]))"
   ]
  },
  {
   "cell_type": "markdown",
   "metadata": {},
   "source": [
    "## exercicio 3"
   ]
  },
  {
   "cell_type": "code",
   "execution_count": 8,
   "metadata": {},
   "outputs": [
    {
     "name": "stdout",
     "output_type": "stream",
     "text": [
      "1\n"
     ]
    }
   ],
   "source": [
    "def sum_list (items):\n",
    "    sum_number = items[-1]\n",
    "    for x in items:\n",
    "        if x<sum_number:\n",
    "            sum_number = x\n",
    "    return sum_number\n",
    "\n",
    "print(sum_list([1, 7, 10]))"
   ]
  },
  {
   "cell_type": "markdown",
   "metadata": {},
   "source": [
    "## exercicio 4"
   ]
  },
  {
   "cell_type": "code",
   "execution_count": 21,
   "metadata": {},
   "outputs": [
    {
     "name": "stdout",
     "output_type": "stream",
     "text": [
      "[0, '', '']\n"
     ]
    }
   ],
   "source": [
    "def sum_list(items):\n",
    "    sum_numberr = items.copy()\n",
    "    resposta = 0\n",
    "    for x in items:\n",
    "        for i in items:\n",
    "            if x == i:\n",
    "                resposta +=1\n",
    "                if resposta > 0:\n",
    "                    items[items.index(x)+1] = ''\n",
    "                    resposta = 0\n",
    "    return items\n",
    "\n",
    "print(sum_list([0, 1, 1]))"
   ]
  },
  {
   "cell_type": "markdown",
   "metadata": {},
   "source": [
    "## exercicio 5\n"
   ]
  },
  {
   "cell_type": "code",
   "execution_count": 24,
   "metadata": {},
   "outputs": [
    {
     "name": "stdout",
     "output_type": "stream",
     "text": [
      "Sua lista nao esta vazia\n"
     ]
    }
   ],
   "source": [
    "def sum_list(items):\n",
    "    if len(items) == 0:\n",
    "        return \"Sua lista esta vazia\"\n",
    "    else:\n",
    "        return \"Sua lista nao esta vazia\"\n",
    "    \n",
    "print(sum_list([1]))\n",
    "    "
   ]
  },
  {
   "cell_type": "markdown",
   "metadata": {},
   "source": [
    "## exercico 6"
   ]
  },
  {
   "cell_type": "code",
   "execution_count": 26,
   "metadata": {},
   "outputs": [
    {
     "name": "stdout",
     "output_type": "stream",
     "text": [
      "[1, 2, 3]\n"
     ]
    }
   ],
   "source": [
    "def sum_lista(items):\n",
    "  return items[:]\n",
    "\n",
    "print(sum_lista([1,2,3]))"
   ]
  },
  {
   "cell_type": "markdown",
   "metadata": {},
   "source": [
    "## exercicio 7"
   ]
  },
  {
   "cell_type": "code",
   "execution_count": 28,
   "metadata": {},
   "outputs": [
    {
     "name": "stdout",
     "output_type": "stream",
     "text": [
      "2\n"
     ]
    }
   ],
   "source": [
    "def sum_list(items):\n",
    "  resposta = 0\n",
    "  for x in items:\n",
    "    if len(x) > 2 and x [0] == x [-1]:\n",
    "      resposta +=1\n",
    "  return resposta\n",
    "\n",
    "print(sum_list([\"abc\",\"xyz\",\"aba\",\"1221\",\"Caio Sando\"]))"
   ]
  }
 ],
 "metadata": {
  "kernelspec": {
   "display_name": "Python 3",
   "language": "python",
   "name": "python3"
  },
  "language_info": {
   "codemirror_mode": {
    "name": "ipython",
    "version": 3
   },
   "file_extension": ".py",
   "mimetype": "text/x-python",
   "name": "python",
   "nbconvert_exporter": "python",
   "pygments_lexer": "ipython3",
   "version": "3.12.6"
  }
 },
 "nbformat": 4,
 "nbformat_minor": 2
}
