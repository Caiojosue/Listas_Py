{
 "cells": [
  {
   "cell_type": "code",
   "execution_count": 2,
   "metadata": {},
   "outputs": [],
   "source": [
    "from collections import deque"
   ]
  },
  {
   "cell_type": "code",
   "execution_count": 3,
   "metadata": {},
   "outputs": [],
   "source": [
    "fila = []"
   ]
  },
  {
   "cell_type": "code",
   "execution_count": 4,
   "metadata": {},
   "outputs": [
    {
     "data": {
      "text/plain": [
       "'15'"
      ]
     },
     "execution_count": 4,
     "metadata": {},
     "output_type": "execute_result"
    }
   ],
   "source": [
    "def Enfileirando(fila, item):\n",
    "    return item[:]\n",
    "Enfileirando(fila, \"5\")\n",
    "Enfileirando(fila, \"10\")\n",
    "Enfileirando(fila, \"15\")\n"
   ]
  },
  {
   "cell_type": "code",
   "execution_count": 5,
   "metadata": {},
   "outputs": [
    {
     "ename": "TypeError",
     "evalue": "Desenfileirar() missing 1 required positional argument: 'item'",
     "output_type": "error",
     "traceback": [
      "\u001b[0;31m---------------------------------------------------------------------------\u001b[0m",
      "\u001b[0;31mTypeError\u001b[0m                                 Traceback (most recent call last)",
      "Cell \u001b[0;32mIn[5], line 5\u001b[0m\n\u001b[1;32m      2\u001b[0m     fila\u001b[38;5;241m.\u001b[39mpopleft(\u001b[38;5;241m0\u001b[39m)\n\u001b[1;32m      3\u001b[0m     \u001b[38;5;28;01mreturn\u001b[39;00m fila\n\u001b[0;32m----> 5\u001b[0m \u001b[43mDesenfileirar\u001b[49m\u001b[43m(\u001b[49m\u001b[43mfila\u001b[49m\u001b[43m)\u001b[49m\n\u001b[1;32m      6\u001b[0m Desenfileirar(fila)\n\u001b[1;32m      7\u001b[0m Desenfileirar(fila)\n",
      "\u001b[0;31mTypeError\u001b[0m: Desenfileirar() missing 1 required positional argument: 'item'"
     ]
    }
   ],
   "source": [
    "def Desenfileirar(fila, item):\n",
    "    fila.popleft(0)\n",
    "    return fila\n",
    "\n",
    "Desenfileirar(fila)\n",
    "Desenfileirar(fila)\n",
    "Desenfileirar(fila)\n"
   ]
  },
  {
   "cell_type": "code",
   "execution_count": 6,
   "metadata": {},
   "outputs": [],
   "source": [
    "def Desenfilerar(fila):\n",
    "    if len(fila) == 0:\n",
    "        print(\"A fila de pedidos esta vazia.\")\n",
    "        return None\n",
    "    else:\n",
    "        pedido = fila.popleft()"
   ]
  },
  {
   "cell_type": "code",
   "execution_count": 7,
   "metadata": {},
   "outputs": [],
   "source": [
    "import time\n",
    "\n",
    "def enqueue(client_name, queue):\n",
    "    queue.append(client_name)\n",
    "    print(f\"Cliente '{client_name}' adicionado a fila de espera\" )\n",
    "    \n",
    "def dequeue(queue):\n",
    "    if queue:\n",
    "        client_name = queue.popleft()\n",
    "        print(f\"Atendendo o cliente '{client_name}' ...\")\n",
    "        time.sleep(2)\n",
    "        print(f\"Cliente  '{client_name}' atendido com sucesso\")\n",
    "    else:\n",
    "        print(\"A fila de espera esta vazia\")\n",
    "        \n",
    "def print_queue(queue):\n",
    "    if queue:\n",
    "        print(\"Fila de espera: \")\n",
    "        for client_name in queue:\n",
    "            print(client_name)\n",
    "    else:\n",
    "        print(\"A fila de espera esta vazia\")\n",
    "        \n",
    "def main():\n",
    "    queue = deque()\n",
    "    \n",
    "    while True:\n",
    "        print(\"\\nMenu:\")\n",
    "        print(\"1 adicionando cliente a fila de espera\")\n",
    "        print(\"2 Atender proximo cliente\")\n",
    "        print(\"3 Visualizar fila espera\")\n",
    "        print(\"4 Sair \")\n",
    "        \n",
    "        resposta = input(\"\")\n",
    "        \n",
    "        match(resposta):\n",
    "            case 1:\n",
    "                enqueue(\"Caio\", queue)\n",
    "            \n",
    "            case 2:\n",
    "                dequeue(queue)\n",
    "                \n",
    "            case 3:\n",
    "                filadeespera(queue)\n",
    "            \n",
    "            case 0:\n",
    "                break\n",
    "            \n",
    "main()\n",
    "        \n"
   ]
  },
  {
   "cell_type": "code",
   "execution_count": null,
   "metadata": {},
   "outputs": [],
   "source": [
    "def enfileirar(fila, documento):\n",
    "    fila.append(documento)\n",
    "    print(f\"Documento {documento}\" \"Enfileirando para impressao\")\n",
    "    \n",
    "def desenfileirar(fila):\n",
    "    if fila:\n",
    "        documento = fila.popleft()\n",
    "        print(f\"Imprimindo documento '{documento}' ...\")\n",
    "        time.sleep(2)\n",
    "        print(f\"Documento '{documento}' impresso com sucesso\")\n",
    "    else:\n",
    "        print(\"Nao ha documentod para imprimir\")\n",
    "        \n",
    "def main():\n",
    "    fila = deque()\n",
    "    \n",
    "    while True:\n",
    "        print(\"\\n== Fila de impressao ==\")\n",
    "        print(\"1 Adicinado documento\")\n",
    "        print(\"2 imprimir proximo documento\")\n",
    "        print(\"3 sair\")\n",
    "        \n",
    "        escolha = input(\"Escola uma opcao: \")\n",
    "        \n",
    "        if escolha == '1':\n",
    "            documento = input(\"Digite o nome do documento: \")\n",
    "            enfileirar"
   ]
  }
 ],
 "metadata": {
  "kernelspec": {
   "display_name": "Python 3",
   "language": "python",
   "name": "python3"
  },
  "language_info": {
   "codemirror_mode": {
    "name": "ipython",
    "version": 3
   },
   "file_extension": ".py",
   "mimetype": "text/x-python",
   "name": "python",
   "nbconvert_exporter": "python",
   "pygments_lexer": "ipython3",
   "version": "3.12.6"
  }
 },
 "nbformat": 4,
 "nbformat_minor": 2
}
