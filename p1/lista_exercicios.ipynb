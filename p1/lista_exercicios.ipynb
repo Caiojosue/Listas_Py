{
 "cells": [
  {
   "cell_type": "code",
   "execution_count": 1,
   "metadata": {},
   "outputs": [],
   "source": [
    "tupla = ([1,2,3,4,5])\n",
    "\n"
   ]
  },
  {
   "cell_type": "code",
   "execution_count": 2,
   "metadata": {},
   "outputs": [
    {
     "name": "stdout",
     "output_type": "stream",
     "text": [
      "Essa é a tupla [1, 2, 3, 4, 5]\n"
     ]
    }
   ],
   "source": [
    "print(\"Essa é a tupla\", tupla)"
   ]
  },
  {
   "cell_type": "code",
   "execution_count": 45,
   "metadata": {},
   "outputs": [
    {
     "name": "stdout",
     "output_type": "stream",
     "text": [
      "A segunda cor é: Vermelho\n"
     ]
    }
   ],
   "source": [
    "tupla_cores = (\"Amarelo\", \"Vermelho\", \"Preto\")\n",
    "\n",
    "print(\"A segunda cor é:\", tupla_cores[1])"
   ]
  },
  {
   "cell_type": "code",
   "execution_count": 52,
   "metadata": {},
   "outputs": [
    {
     "data": {
      "text/plain": [
       "(8, 16, 24, 32, 40)"
      ]
     },
     "execution_count": 52,
     "metadata": {},
     "output_type": "execute_result"
    }
   ],
   "source": [
    "def sum_and_avg(tupla):\n",
    "    return tuple(valor * 2 for valor in tupla)\n",
    "tupla_valores = (2,4,6,8,10)\n",
    "\n",
    "nova_tupla = tuple(valor * 2 for valor in tupla_valores)\n",
    "sum_and_avg(nova_tupla)"
   ]
  },
  {
   "cell_type": "code",
   "execution_count": 53,
   "metadata": {},
   "outputs": [
    {
     "data": {
      "text/plain": [
       "(5, 7, 9)"
      ]
     },
     "execution_count": 53,
     "metadata": {},
     "output_type": "execute_result"
    }
   ],
   "source": [
    "def somaTupla(tupla1, tupla2):\n",
    "    return tuple(valor1 + valor2 for valor1, valor2 in zip(tupla1, tupla2))\n",
    "\n",
    "tupla1 = (1,2,3)\n",
    "\n",
    "tupla2= (4,5,6)\n",
    "\n",
    "somaTupla(tupla1,tupla2)"
   ]
  },
  {
   "cell_type": "code",
   "execution_count": 43,
   "metadata": {},
   "outputs": [
    {
     "name": "stdout",
     "output_type": "stream",
     "text": [
      "Não, maçã não está na tupla\n"
     ]
    }
   ],
   "source": [
    "tupla_frutas = ('jabuticaba', 'laranja', 'pera', 'uva', 'abacaxi')\n",
    "if 'maçã' in tupla_frutas:\n",
    "    print('Sim, maçã está na tupla')\n",
    "else:\n",
    "    print('Não, maçã não está na tupla')"
   ]
  },
  {
   "cell_type": "code",
   "execution_count": 42,
   "metadata": {},
   "outputs": [
    {
     "name": "stdout",
     "output_type": "stream",
     "text": [
      "[1, 2, 4, 5]\n"
     ]
    }
   ],
   "source": [
    "tupla = (2, 5, 4, 1)\n",
    "\n",
    "\n",
    "sorted(tupla)\n",
    "\n",
    "new_tupla = print(sorted(tupla))"
   ]
  },
  {
   "cell_type": "code",
   "execution_count": 40,
   "metadata": {},
   "outputs": [
    {
     "name": "stdout",
     "output_type": "stream",
     "text": [
      "Elementos em índices pares: ['a', 'c']\n"
     ]
    }
   ],
   "source": [
    "tupla = (\"a\", 'b', 'c', 'd' 'e')\n",
    "\n",
    "elementos_indices_pares = [tupla[i] for i in range(0, len(tupla), 2)]\n",
    "print(\"Elementos em índices pares:\", elementos_indices_pares)\n"
   ]
  },
  {
   "cell_type": "code",
   "execution_count": 47,
   "metadata": {},
   "outputs": [
    {
     "name": "stdout",
     "output_type": "stream",
     "text": [
      "Nova tupla: (1, 2, 4, 5)\n"
     ]
    }
   ],
   "source": [
    "tupla_original = (1, 2, 3, 4, 5)\n",
    "nova_tupla = tuple(valor for valor in tupla_original if valor != 3)\n",
    "\n",
    "print(\"Nova tupla:\", nova_tupla)\n"
   ]
  },
  {
   "cell_type": "code",
   "execution_count": 48,
   "metadata": {},
   "outputs": [
    {
     "name": "stdout",
     "output_type": "stream",
     "text": [
      "A soma dos valores é: 60\n"
     ]
    }
   ],
   "source": [
    "tupla = (10, 20, 30)\n",
    "\n",
    "soma = sum(tupla)\n",
    "\n",
    "print(\"A soma dos valores é:\", soma)"
   ]
  },
  {
   "cell_type": "code",
   "execution_count": 50,
   "metadata": {},
   "outputs": [
    {
     "name": "stdout",
     "output_type": "stream",
     "text": [
      "('b', 'a')\n",
      "('banana', 'maçã')\n"
     ]
    }
   ],
   "source": [
    "tupla = (\"a\", \"b\")\n",
    "tupla_trocada = tupla[::-1]\n",
    "print(tupla_trocada) \n",
    "\n",
    "\n",
    "tupla = (\"maçã\", \"banana\")\n",
    "print((tupla[1], tupla[0])) "
   ]
  }
 ],
 "metadata": {
  "kernelspec": {
   "display_name": "Python 3",
   "language": "python",
   "name": "python3"
  },
  "language_info": {
   "codemirror_mode": {
    "name": "ipython",
    "version": 3
   },
   "file_extension": ".py",
   "mimetype": "text/x-python",
   "name": "python",
   "nbconvert_exporter": "python",
   "pygments_lexer": "ipython3",
   "version": "3.12.6"
  }
 },
 "nbformat": 4,
 "nbformat_minor": 2
}
