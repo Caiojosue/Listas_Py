{
 "cells": [
  {
   "cell_type": "code",
   "execution_count": 17,
   "metadata": {},
   "outputs": [
    {
     "name": "stdout",
     "output_type": "stream",
     "text": [
      "1 - Total de vendas por produto:\n",
      "   - Produto A: R$ 287.82\n",
      "   - Produto B: R$ 306.0\n",
      "   - Produto C: R$ 351.68\n",
      "\n",
      "2 - Total geral: R$ 945.5\n",
      "   Preço médio por unidade: R$ 15.25\n",
      "\n",
      "3 - 🚀 Top Vendas: Produto C (R$ 351.68)\n",
      "   🐢 Menos Vendido: Produto A (R$ 287.82)\n"
     ]
    }
   ],
   "source": [
    "vendas = [\n",
    "    {\"produto\": \"Produto A\", \"quantidade\": 10, \"preco\": 15.99},\n",
    "    {\"produto\": \"Produto B\", \"quantidade\": 5, \"preco\": 25.50},\n",
    "    {\"produto\": \"Produto C\", \"quantidade\": 20, \"preco\": 10.99},\n",
    "    {\"produto\": \"Produto A\", \"quantidade\": 8, \"preco\": 15.99},\n",
    "    {\"produto\": \"Produto C\", \"quantidade\": 12, \"preco\": 10.99},\n",
    "    {\"produto\": \"Produto B\", \"quantidade\": 7, \"preco\": 25.50},\n",
    "]\n",
    "\n",
    "totalproduto = {}\n",
    "for venda in vendas:\n",
    "    produto = venda[\"produto\"]\n",
    "    total = venda[\"quantidade\"] * venda[\"preco\"]\n",
    "    if produto in totalproduto:\n",
    "        totalproduto[produto] += total\n",
    "    else:\n",
    "        totalproduto[produto] = total\n",
    "\n",
    "lista_total = [(produto, round(total, 2)) for produto, total in totalproduto.items()]\n",
    "\n",
    "total_geral = sum(total for produto, total in lista_total)\n",
    "quantidade_total = sum(venda[\"quantidade\"] for venda in vendas)\n",
    "preco_medio = total_geral / quantidade_total if quantidade_total != 0 else 0\n",
    "\n",
    "mais_vendido = max(lista_total, key=lambda x: x[1])\n",
    "menos_vendido = min(lista_total, key=lambda x: x[1])\n",
    "\n",
    "print(\"1 - Total de vendas por produto:\")\n",
    "for produto, total in lista_total:\n",
    "    print(f\"   - {produto}: R$ {total}\")\n",
    "    \n",
    "print(f\"\\n2 - Total geral: R$ {total_geral}\")\n",
    "print(f\"   Preço médio por unidade: R$ {preco_medio}\")\n",
    "\n",
    "print(f\"\\n3 - 🚀 Top Vendas: {mais_vendido[0]} (R$ {mais_vendido[1]})\")\n",
    "print(f\"   🐢 Menos Vendido: {menos_vendido[0]} (R$ {menos_vendido[1]})\")\n"
   ]
  }
 ],
 "metadata": {
  "kernelspec": {
   "display_name": "Python 3",
   "language": "python",
   "name": "python3"
  },
  "language_info": {
   "codemirror_mode": {
    "name": "ipython",
    "version": 3
   },
   "file_extension": ".py",
   "mimetype": "text/x-python",
   "name": "python",
   "nbconvert_exporter": "python",
   "pygments_lexer": "ipython3",
   "version": "3.12.6"
  }
 },
 "nbformat": 4,
 "nbformat_minor": 2
}
