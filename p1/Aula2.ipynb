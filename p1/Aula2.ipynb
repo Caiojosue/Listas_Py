{
 "cells": [
  {
   "cell_type": "code",
   "execution_count": 18,
   "metadata": {},
   "outputs": [
    {
     "name": "stdout",
     "output_type": "stream",
     "text": [
      "O índice do item 30 é 2\n"
     ]
    }
   ],
   "source": [
    "def encontrar_indice(lista, item):\n",
    "    try:\n",
    "        return lista.index(item)\n",
    "    except ValueError:\n",
    "        return -1\n",
    "\n",
    "lista_exemplo = [10, 20, 30, 40, 50]\n",
    "item_procurado = 30\n",
    "\n",
    "indice = encontrar_indice(lista_exemplo, item_procurado)\n",
    "print(f\"O índice do item {item_procurado} é {indice}\")\n"
   ]
  },
  {
   "cell_type": "code",
   "execution_count": 21,
   "metadata": {},
   "outputs": [
    {
     "name": "stdout",
     "output_type": "stream",
     "text": [
      "2\n"
     ]
    }
   ],
   "source": [
    "def ultimo_elemento(lista):\n",
    "    return len(lista) -1\n",
    "\n",
    "print(ultimo_elemento([1,4,6]))"
   ]
  },
  {
   "cell_type": "code",
   "execution_count": 23,
   "metadata": {},
   "outputs": [
    {
     "name": "stdout",
     "output_type": "stream",
     "text": [
      "[30, 9, 6]\n"
     ]
    }
   ],
   "source": [
    "def somar_ordenar(lista):\n",
    "    soma = [sum(sublista) for sublista in lista]\n",
    "    lista_ordem = sorted(soma, reverse=True)\n",
    "    return lista_ordem\n",
    "\n",
    "lista = [[1, 2, 3], [4, 5], [6, 7 ,8, 9]]\n",
    "lista_somas = somar_ordenar(lista)\n",
    "print(lista_somas)"
   ]
  }
 ],
 "metadata": {
  "kernelspec": {
   "display_name": "Python 3",
   "language": "python",
   "name": "python3"
  },
  "language_info": {
   "codemirror_mode": {
    "name": "ipython",
    "version": 3
   },
   "file_extension": ".py",
   "mimetype": "text/x-python",
   "name": "python",
   "nbconvert_exporter": "python",
   "pygments_lexer": "ipython3",
   "version": "3.12.6"
  }
 },
 "nbformat": 4,
 "nbformat_minor": 2
}
