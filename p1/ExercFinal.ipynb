{
 "cells": [
  {
   "cell_type": "markdown",
   "metadata": {},
   "source": [
    "## Exerc1 : analise de vendas\n",
    "\n",
    "Imagine que você é responsável por uma loja de e-commerce e deseja analisar as vendas de\n",
    "produtos em uma semana.\n",
    "Você tem uma lista contendo o número de vendas diárias de um produto ao longo de uma\n",
    "semana:\n",
    "vendas_semana = [150, 200, 300, 250, 100, 400, 350]\n",
    "Crie métodos Python para:\n",
    "1. Calcule a média diária de vendas na semana.\n",
    "2. Identifique o dia com a maior quantidade de vendas.\n",
    "3. Exiba quantos dias tiveram vendas acima de 250 unidades."
   ]
  },
  {
   "cell_type": "code",
   "execution_count": 4,
   "metadata": {},
   "outputs": [
    {
     "name": "stdout",
     "output_type": "stream",
     "text": [
      "Media da semana:  \n",
      "250.0\n",
      "Maior venda:  \n",
      "400\n",
      "Acima de 250: \n",
      "300\n"
     ]
    }
   ],
   "source": [
    "vendas_semana = [150, 200, 300, 250, 100, 400, 350]\n",
    "\n",
    "def media(semana):\n",
    "    return sum(semana) / len(semana)\n",
    "print(\"Media da semana:  \")\n",
    "print(media(vendas_semana))\n",
    "\n",
    "\n",
    "def maior(semana):\n",
    "    return max(semana)\n",
    "print(\"Maior venda:  \")\n",
    "print(maior(vendas_semana))\n",
    "\n",
    "\n",
    "def acima(semana):\n",
    "    for venda in vendas_semana:\n",
    "        if venda > 250:\n",
    "            return venda\n",
    "print(\"Acima de 250: \")\n",
    "print(acima(vendas_semana))"
   ]
  },
  {
   "cell_type": "markdown",
   "metadata": {},
   "source": [
    "## Exercício 2: Gerenciamento de Estoque\n",
    "Você está gerenciando o estoque de um supermercado e tem uma lista de produtos em falta.\n",
    "A lista abaixo contém os produtos que estão em falta:\n",
    "estoque_faltando = ['arroz', 'feijão', 'macarrão', 'açúcar', 'sal', 'óleo']\n",
    "Crie métodos Python para:\n",
    "1. Adicione dois novos produtos que estão em falta: 'farinha' e 'café'.\n",
    "2. Um erro foi encontrado, o produto 'açúcar' não está realmente em falta. Remova-o\n",
    "da lista.\n",
    "3. Exiba a quantidade total de produtos em falta.\n",
    "4. Ordene a lista em ordem alfabética."
   ]
  },
  {
   "cell_type": "code",
   "execution_count": 5,
   "metadata": {},
   "outputs": [],
   "source": [
    "estoque_faltando = [\"arroz\", \"feijao\", \"macarrao\", 'acucar', 'sal', 'oleo']"
   ]
  },
  {
   "cell_type": "markdown",
   "metadata": {},
   "source": []
  },
  {
   "cell_type": "code",
   "execution_count": 6,
   "metadata": {},
   "outputs": [
    {
     "name": "stdout",
     "output_type": "stream",
     "text": [
      "['arroz', 'feijao', 'macarrao', 'acucar', 'sal', 'oleo', 'farinha']\n",
      "['arroz', 'feijao', 'macarrao', 'acucar', 'sal', 'oleo', 'farinha', 'cafe']\n"
     ]
    }
   ],
   "source": [
    "def adicionar(estoque, item):\n",
    "    estoque.append(item)\n",
    "    print(estoque)\n",
    "    \n",
    "adicionar(estoque_faltando, \"farinha\")\n",
    "adicionar(estoque_faltando, \"cafe\")\n"
   ]
  },
  {
   "cell_type": "code",
   "execution_count": 7,
   "metadata": {},
   "outputs": [
    {
     "name": "stdout",
     "output_type": "stream",
     "text": [
      "['arroz', 'feijao', 'macarrao', 'sal', 'oleo', 'farinha', 'cafe']\n"
     ]
    }
   ],
   "source": [
    "def remover(estoque, item):\n",
    "    estoque.remove(item)\n",
    "    print(estoque)\n",
    "    \n",
    "remover(estoque_faltando, \"acucar\")"
   ]
  },
  {
   "cell_type": "code",
   "execution_count": 8,
   "metadata": {},
   "outputs": [
    {
     "name": "stdout",
     "output_type": "stream",
     "text": [
      "quantidade de itens é ['arroz', 'feijao', 'macarrao', 'sal', 'oleo', 'farinha', 'cafe']\n"
     ]
    }
   ],
   "source": [
    "def exibir(estoque, item):\n",
    "    \n",
    "    \n",
    "    return estoque.sort()\n",
    "\n"
   ]
  },
  {
   "cell_type": "code",
   "execution_count": null,
   "metadata": {},
   "outputs": [],
   "source": []
  }
 ],
 "metadata": {
  "kernelspec": {
   "display_name": "Python 3",
   "language": "python",
   "name": "python3"
  },
  "language_info": {
   "codemirror_mode": {
    "name": "ipython",
    "version": 3
   },
   "file_extension": ".py",
   "mimetype": "text/x-python",
   "name": "python",
   "nbconvert_exporter": "python",
   "pygments_lexer": "ipython3",
   "version": "3.12.6"
  }
 },
 "nbformat": 4,
 "nbformat_minor": 2
}
